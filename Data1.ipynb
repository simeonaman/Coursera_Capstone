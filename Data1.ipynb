{
 "cells": [
  {
   "cell_type": "markdown",
   "metadata": {},
   "source": [
    "# Chicago Neighborhoods: Crime and Business Activities"
   ]
  },
  {
   "cell_type": "markdown",
   "metadata": {},
   "source": [
    "# Data "
   ]
  },
  {
   "cell_type": "markdown",
   "metadata": {},
   "source": [
    "Chicago Data Portal is the main source of data for this project and it is provided by the City of Chicago.  This data will be used to identify crime numbers and crime types across neighborhoods in different periods of time. The data contains 22 columns and about 7 million incidents/rows. This includes crime incidents from 2001 to 2020. Not all columns are needed for this project and different restrictions - for example grouping by year, crime type, neighborhood, location - will be used for analysis. Here is a link to Chicago Data Portal https://data.cityofchicago.org/Public-Safety/Crimes-2001-to-Present/ijzp-q8t2/data \n",
    "\n",
    "Wikipedia webpage (table) will also be used for identifying official Chicago Area Numbers to identify their proper neighborhood names whenever needed. Unlike other cities Chicago’s 77 official neighborhoods are designated by numbers instead of neighborhood names.\n",
    "\n",
    "Foursquare will also be used to explore business activities and geographical locations. It will be used to get trending venues around a given location in some neighborhoods with high, medium and low crimes. \n",
    " \n",
    "Finally both the Chicago Data Portal and Foursquare data will be used to explore relationships between crime and business activities. \n"
   ]
  }
 ],
 "metadata": {
  "kernelspec": {
   "display_name": "Python",
   "language": "python",
   "name": "conda-env-python-py"
  },
  "language_info": {
   "codemirror_mode": {
    "name": "ipython",
    "version": 3
   },
   "file_extension": ".py",
   "mimetype": "text/x-python",
   "name": "python",
   "nbconvert_exporter": "python",
   "pygments_lexer": "ipython3",
   "version": "3.6.10"
  }
 },
 "nbformat": 4,
 "nbformat_minor": 4
}
