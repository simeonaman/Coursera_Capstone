{
 "cells": [
  {
   "cell_type": "markdown",
   "metadata": {},
   "source": [
    "# Chicago Neighborhoods: Crime and Business Activities"
   ]
  },
  {
   "cell_type": "markdown",
   "metadata": {},
   "source": [
    "# Introduction/Business Problem"
   ]
  },
  {
   "cell_type": "markdown",
   "metadata": {},
   "source": [
    "## Background \n",
    "\n",
    "In 2012, Chicago was called the “murder capital” of the USA and 2016 was the highest with 762 murders. The city often records the highest absolute total number of killings almost every year. There has been a significant drop in the past three years to about 240 murders per year.  But if we look at murder rates - murders per 100,000 residents - Chicago regularly experiences much fewer killings than places like St. Louis, Baltimore, Kansas City, Missouri, Cleveland or Washington DC. The Chicago Police Department reported a 20% reduction of crime in May 2020 in the general category including murder, criminal sexual assault, robbery, aggravated battery, burglary, theft and vehicle theft from last May 2019. But discussions of crimes and business activities should not focus on cities but on neighborhoods. Just like income and education, crime and business activities vary even more in neighborhoods within cities than between cities. \n",
    "\n",
    "\n",
    "Most business activites have been closed in Chicago since March 2020 due to Covid19. In this project, the focus will be to use Foursquare location services to explore venues in neighborhoods with interesting (high and low) results from the crime data.  "
   ]
  },
  {
   "cell_type": "markdown",
   "metadata": {},
   "source": [
    "## Problem (Business Problem) \n",
    "\n",
    "What are the crime patterns and business activities in different neighborhoods in Chicago?  \n",
    "What is the relationship between crime and business activities in Chicago neighborhoods?"
   ]
  },
  {
   "cell_type": "markdown",
   "metadata": {},
   "source": [
    "## Stakeholders/Audience \n",
    "\n",
    "Residents of the city would want to know the crime patterns and business activities in terms of location and time in their daily life. Prospective home buyers or renters need to know safe places and important business activities as part of their decision making process. Business investors would benefit from information about business activities in specific neighborhoods. Local government authorities would benefit from past crime activities and busy business areas to anticipate potential security needs. "
   ]
  }
 ],
 "metadata": {
  "kernelspec": {
   "display_name": "Python",
   "language": "python",
   "name": "conda-env-python-py"
  },
  "language_info": {
   "codemirror_mode": {
    "name": "ipython",
    "version": 3
   },
   "file_extension": ".py",
   "mimetype": "text/x-python",
   "name": "python",
   "nbconvert_exporter": "python",
   "pygments_lexer": "ipython3",
   "version": "3.6.10"
  }
 },
 "nbformat": 4,
 "nbformat_minor": 4
}
